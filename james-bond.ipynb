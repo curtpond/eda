{
 "cells": [
  {
   "cell_type": "markdown",
   "metadata": {},
   "source": [
    "This notebook is a small exercise to practice exploring and visualizing data. \n",
    "\n",
    "**Objective:**\n",
    "\n",
    "1. Is there any relationship between the Rotten Tomatoes ratings and those from IMDb?\n",
    "2. Are there any insights to be gleaned from analyzing the lengths of the movies?\n",
    "3. Is there a relationship between the number of enemies James Bond has killed and the user ratings of the movie in which they were killed?"
   ]
  },
  {
   "cell_type": "markdown",
   "metadata": {},
   "source": [
    "### Install libraries"
   ]
  },
  {
   "cell_type": "code",
   "execution_count": 1,
   "metadata": {},
   "outputs": [],
   "source": [
    "import pandas as pd\n",
    "import seaborn as sns\n",
    "import matplotlib.pyplot as plt\n",
    "import numpy as np"
   ]
  },
  {
   "cell_type": "markdown",
   "metadata": {},
   "source": [
    "### Load data"
   ]
  },
  {
   "cell_type": "code",
   "execution_count": 3,
   "metadata": {},
   "outputs": [],
   "source": [
    "# We have already acquired the data, so we simply need to load it.\n",
    "df = pd.read_csv('data/james_bond_data.csv').convert_dtypes()"
   ]
  },
  {
   "cell_type": "code",
   "execution_count": 4,
   "metadata": {},
   "outputs": [
    {
     "data": {
      "text/html": [
       "<div>\n",
       "<style scoped>\n",
       "    .dataframe tbody tr th:only-of-type {\n",
       "        vertical-align: middle;\n",
       "    }\n",
       "\n",
       "    .dataframe tbody tr th {\n",
       "        vertical-align: top;\n",
       "    }\n",
       "\n",
       "    .dataframe thead th {\n",
       "        text-align: right;\n",
       "    }\n",
       "</style>\n",
       "<table border=\"1\" class=\"dataframe\">\n",
       "  <thead>\n",
       "    <tr style=\"text-align: right;\">\n",
       "      <th></th>\n",
       "      <th>Release</th>\n",
       "      <th>Movie</th>\n",
       "      <th>Bond</th>\n",
       "      <th>Bond_Car_MFG</th>\n",
       "      <th>US_Gross</th>\n",
       "      <th>World_Gross</th>\n",
       "      <th>Budget ($ 000s)</th>\n",
       "      <th>Film_Length</th>\n",
       "      <th>Avg_User_IMDB</th>\n",
       "      <th>Avg_User_Rtn_Tom</th>\n",
       "      <th>Martinis</th>\n",
       "      <th>Kills_Bond</th>\n",
       "    </tr>\n",
       "  </thead>\n",
       "  <tbody>\n",
       "    <tr>\n",
       "      <th>0</th>\n",
       "      <td>June, 1962</td>\n",
       "      <td>Dr. No</td>\n",
       "      <td>Sean Connery</td>\n",
       "      <td>Sunbeam</td>\n",
       "      <td>$16,067,035.00</td>\n",
       "      <td>$59,567,035.00</td>\n",
       "      <td>$1,000.00</td>\n",
       "      <td>110 mins</td>\n",
       "      <td>7.3</td>\n",
       "      <td>7.7</td>\n",
       "      <td>2</td>\n",
       "      <td>4</td>\n",
       "    </tr>\n",
       "    <tr>\n",
       "      <th>1</th>\n",
       "      <td>August, 1963</td>\n",
       "      <td>From Russia with Love</td>\n",
       "      <td>Sean Connery</td>\n",
       "      <td>Bentley</td>\n",
       "      <td>$24,800,000.00</td>\n",
       "      <td>$78,900,000.00</td>\n",
       "      <td>$2,000.00</td>\n",
       "      <td>115 mins</td>\n",
       "      <td>7.5</td>\n",
       "      <td>8.0</td>\n",
       "      <td>0</td>\n",
       "      <td>11</td>\n",
       "    </tr>\n",
       "    <tr>\n",
       "      <th>2</th>\n",
       "      <td>May, 1964</td>\n",
       "      <td>Goldfinger</td>\n",
       "      <td>Sean Connery</td>\n",
       "      <td>Aston Martin</td>\n",
       "      <td>$51,100,000.00</td>\n",
       "      <td>$124,900,000.00</td>\n",
       "      <td>$3,000.00</td>\n",
       "      <td>110 mins</td>\n",
       "      <td>7.8</td>\n",
       "      <td>8.4</td>\n",
       "      <td>1</td>\n",
       "      <td>9</td>\n",
       "    </tr>\n",
       "    <tr>\n",
       "      <th>3</th>\n",
       "      <td>September, 1965</td>\n",
       "      <td>Thunderball</td>\n",
       "      <td>Sean Connery</td>\n",
       "      <td>Aston Martin</td>\n",
       "      <td>$63,600,000.00</td>\n",
       "      <td>$141,200,000.00</td>\n",
       "      <td>$9,000.00</td>\n",
       "      <td>130 mins</td>\n",
       "      <td>7.0</td>\n",
       "      <td>6.8</td>\n",
       "      <td>0</td>\n",
       "      <td>20</td>\n",
       "    </tr>\n",
       "    <tr>\n",
       "      <th>4</th>\n",
       "      <td>November, 1967</td>\n",
       "      <td>You Only Live Twice</td>\n",
       "      <td>Sean Connery</td>\n",
       "      <td>Toyota</td>\n",
       "      <td>$43,100,000.00</td>\n",
       "      <td>$111,600,000.00</td>\n",
       "      <td>$9,500.00</td>\n",
       "      <td>117 mins</td>\n",
       "      <td>6.9</td>\n",
       "      <td>6.3</td>\n",
       "      <td>1</td>\n",
       "      <td>21</td>\n",
       "    </tr>\n",
       "  </tbody>\n",
       "</table>\n",
       "</div>"
      ],
      "text/plain": [
       "           Release                  Movie          Bond  Bond_Car_MFG   \n",
       "0       June, 1962                 Dr. No  Sean Connery       Sunbeam  \\\n",
       "1     August, 1963  From Russia with Love  Sean Connery       Bentley   \n",
       "2        May, 1964             Goldfinger  Sean Connery  Aston Martin   \n",
       "3  September, 1965            Thunderball  Sean Connery  Aston Martin   \n",
       "4   November, 1967    You Only Live Twice  Sean Connery        Toyota   \n",
       "\n",
       "           US_Gross        World_Gross Budget ($ 000s) Film_Length   \n",
       "0   $16,067,035.00     $59,567,035.00       $1,000.00     110 mins  \\\n",
       "1   $24,800,000.00     $78,900,000.00       $2,000.00     115 mins   \n",
       "2   $51,100,000.00    $124,900,000.00       $3,000.00     110 mins   \n",
       "3   $63,600,000.00    $141,200,000.00       $9,000.00     130 mins   \n",
       "4   $43,100,000.00    $111,600,000.00       $9,500.00     117 mins   \n",
       "\n",
       "   Avg_User_IMDB  Avg_User_Rtn_Tom  Martinis  Kills_Bond  \n",
       "0            7.3               7.7         2           4  \n",
       "1            7.5               8.0         0          11  \n",
       "2            7.8               8.4         1           9  \n",
       "3            7.0               6.8         0          20  \n",
       "4            6.9               6.3         1          21  "
      ]
     },
     "execution_count": 4,
     "metadata": {},
     "output_type": "execute_result"
    }
   ],
   "source": [
    "# Take a look at the first few rows of the data.\n",
    "df.head()"
   ]
  },
  {
   "cell_type": "code",
   "execution_count": 5,
   "metadata": {},
   "outputs": [
    {
     "data": {
      "text/plain": [
       "(27, 12)"
      ]
     },
     "execution_count": 5,
     "metadata": {},
     "output_type": "execute_result"
    }
   ],
   "source": [
    "df.shape"
   ]
  },
  {
   "cell_type": "code",
   "execution_count": 6,
   "metadata": {},
   "outputs": [
    {
     "name": "stdout",
     "output_type": "stream",
     "text": [
      "<class 'pandas.core.frame.DataFrame'>\n",
      "RangeIndex: 27 entries, 0 to 26\n",
      "Data columns (total 12 columns):\n",
      " #   Column            Non-Null Count  Dtype  \n",
      "---  ------            --------------  -----  \n",
      " 0   Release           27 non-null     string \n",
      " 1   Movie             27 non-null     string \n",
      " 2   Bond              27 non-null     string \n",
      " 3   Bond_Car_MFG      27 non-null     string \n",
      " 4   US_Gross          27 non-null     string \n",
      " 5   World_Gross       27 non-null     string \n",
      " 6   Budget ($ 000s)   27 non-null     string \n",
      " 7   Film_Length       27 non-null     string \n",
      " 8   Avg_User_IMDB     26 non-null     Float64\n",
      " 9   Avg_User_Rtn_Tom  26 non-null     Float64\n",
      " 10  Martinis          27 non-null     Int64  \n",
      " 11  Kills_Bond        27 non-null     Int64  \n",
      "dtypes: Float64(2), Int64(2), string(8)\n",
      "memory usage: 2.8 KB\n"
     ]
    }
   ],
   "source": [
    "df.info()"
   ]
  },
  {
   "cell_type": "markdown",
   "metadata": {},
   "source": [
    "### Clean data"
   ]
  },
  {
   "cell_type": "markdown",
   "metadata": {},
   "source": [
    "#### Rename columns"
   ]
  },
  {
   "cell_type": "code",
   "execution_count": 9,
   "metadata": {},
   "outputs": [],
   "source": [
    "# Start by renaming the columns to make them easier to work with. Create a dictionary with new names.\n",
    "new_column_names = {\n",
    "   \"Release\": \"release_date\",\n",
    "   \"Movie\": \"movie_title\",\n",
    "   \"Bond\": \"bond_actor\",\n",
    "   \"Bond_Car_MFG\": \"car_manufacturer\",\n",
    "   \"US_Gross\": \"income_usa\",\n",
    "   \"World_Gross\": \"income_world\",\n",
    "   \"Budget ($ 000s)\": \"movie_budget\",\n",
    "   \"Film_Length\": \"film_length\",\n",
    "   \"Avg_User_IMDB\": \"imdb\",\n",
    "   \"Avg_User_Rtn_Tom\": \"rotten_tomatoes\",\n",
    "   \"Martinis\": \"martinis_consumed\",\n",
    "   \"Kills_Bond\": \"bond_kills\",\n",
    "   }\n",
    "\n",
    "data = df.rename(columns=new_column_names)"
   ]
  },
  {
   "cell_type": "code",
   "execution_count": 10,
   "metadata": {},
   "outputs": [
    {
     "data": {
      "text/plain": [
       "Index(['release_date', 'movie_title', 'bond_actor', 'car_manufacturer',\n",
       "       'income_usa', 'income_world', 'movie_budget', 'film_length', 'imdb',\n",
       "       'rotten_tomatoes', 'martinis_consumed', 'bond_kills'],\n",
       "      dtype='object')"
      ]
     },
     "execution_count": 10,
     "metadata": {},
     "output_type": "execute_result"
    }
   ],
   "source": [
    "data.columns"
   ]
  },
  {
   "cell_type": "markdown",
   "metadata": {},
   "source": [
    "#### Identify and fix missing values"
   ]
  },
  {
   "cell_type": "code",
   "execution_count": 12,
   "metadata": {},
   "outputs": [
    {
     "data": {
      "text/plain": [
       "release_date         0\n",
       "movie_title          0\n",
       "bond_actor           0\n",
       "car_manufacturer     0\n",
       "income_usa           0\n",
       "income_world         0\n",
       "movie_budget         0\n",
       "film_length          0\n",
       "imdb                 1\n",
       "rotten_tomatoes      1\n",
       "martinis_consumed    0\n",
       "bond_kills           0\n",
       "dtype: int64"
      ]
     },
     "execution_count": 12,
     "metadata": {},
     "output_type": "execute_result"
    }
   ],
   "source": [
    "data.isna().sum()"
   ]
  },
  {
   "cell_type": "code",
   "execution_count": 15,
   "metadata": {},
   "outputs": [
    {
     "data": {
      "text/html": [
       "<div>\n",
       "<style scoped>\n",
       "    .dataframe tbody tr th:only-of-type {\n",
       "        vertical-align: middle;\n",
       "    }\n",
       "\n",
       "    .dataframe tbody tr th {\n",
       "        vertical-align: top;\n",
       "    }\n",
       "\n",
       "    .dataframe thead th {\n",
       "        text-align: right;\n",
       "    }\n",
       "</style>\n",
       "<table border=\"1\" class=\"dataframe\">\n",
       "  <thead>\n",
       "    <tr style=\"text-align: right;\">\n",
       "      <th></th>\n",
       "      <th>release_date</th>\n",
       "      <th>movie_title</th>\n",
       "      <th>bond_actor</th>\n",
       "      <th>car_manufacturer</th>\n",
       "      <th>income_usa</th>\n",
       "      <th>income_world</th>\n",
       "      <th>movie_budget</th>\n",
       "      <th>film_length</th>\n",
       "      <th>imdb</th>\n",
       "      <th>rotten_tomatoes</th>\n",
       "      <th>martinis_consumed</th>\n",
       "      <th>bond_kills</th>\n",
       "    </tr>\n",
       "  </thead>\n",
       "  <tbody>\n",
       "    <tr>\n",
       "      <th>10</th>\n",
       "      <td>April, 1977</td>\n",
       "      <td>The Spy Who Loved Me</td>\n",
       "      <td>Roger Moore</td>\n",
       "      <td>Lotus</td>\n",
       "      <td>$46,800,000.00</td>\n",
       "      <td>$185,400,000.00</td>\n",
       "      <td>$14,000.00</td>\n",
       "      <td>125 mins</td>\n",
       "      <td>&lt;NA&gt;</td>\n",
       "      <td>&lt;NA&gt;</td>\n",
       "      <td>1</td>\n",
       "      <td>31</td>\n",
       "    </tr>\n",
       "  </tbody>\n",
       "</table>\n",
       "</div>"
      ],
      "text/plain": [
       "   release_date           movie_title   bond_actor car_manufacturer   \n",
       "10  April, 1977  The Spy Who Loved Me  Roger Moore            Lotus  \\\n",
       "\n",
       "          income_usa       income_world  movie_budget film_length  imdb   \n",
       "10   $46,800,000.00    $185,400,000.00    $14,000.00     125 mins  <NA>  \\\n",
       "\n",
       "    rotten_tomatoes  martinis_consumed  bond_kills  \n",
       "10             <NA>                  1          31  "
      ]
     },
     "execution_count": 15,
     "metadata": {},
     "output_type": "execute_result"
    }
   ],
   "source": [
    "# Where are the missing values?\n",
    "data.loc[data.isna().any(axis=\"columns\")] # any row with a missing value"
   ]
  },
  {
   "cell_type": "markdown",
   "metadata": {},
   "source": [
    "#### Fix data types"
   ]
  },
  {
   "cell_type": "markdown",
   "metadata": {},
   "source": [
    "##### Financial columns"
   ]
  },
  {
   "cell_type": "code",
   "execution_count": 20,
   "metadata": {},
   "outputs": [
    {
     "data": {
      "text/html": [
       "<div>\n",
       "<style scoped>\n",
       "    .dataframe tbody tr th:only-of-type {\n",
       "        vertical-align: middle;\n",
       "    }\n",
       "\n",
       "    .dataframe tbody tr th {\n",
       "        vertical-align: top;\n",
       "    }\n",
       "\n",
       "    .dataframe thead th {\n",
       "        text-align: right;\n",
       "    }\n",
       "</style>\n",
       "<table border=\"1\" class=\"dataframe\">\n",
       "  <thead>\n",
       "    <tr style=\"text-align: right;\">\n",
       "      <th></th>\n",
       "      <th>income_usa</th>\n",
       "      <th>income_world</th>\n",
       "      <th>movie_budget</th>\n",
       "      <th>film_length</th>\n",
       "    </tr>\n",
       "  </thead>\n",
       "  <tbody>\n",
       "    <tr>\n",
       "      <th>0</th>\n",
       "      <td>$16,067,035.00</td>\n",
       "      <td>$59,567,035.00</td>\n",
       "      <td>$1,000.00</td>\n",
       "      <td>110 mins</td>\n",
       "    </tr>\n",
       "    <tr>\n",
       "      <th>1</th>\n",
       "      <td>$24,800,000.00</td>\n",
       "      <td>$78,900,000.00</td>\n",
       "      <td>$2,000.00</td>\n",
       "      <td>115 mins</td>\n",
       "    </tr>\n",
       "    <tr>\n",
       "      <th>2</th>\n",
       "      <td>$51,100,000.00</td>\n",
       "      <td>$124,900,000.00</td>\n",
       "      <td>$3,000.00</td>\n",
       "      <td>110 mins</td>\n",
       "    </tr>\n",
       "    <tr>\n",
       "      <th>3</th>\n",
       "      <td>$63,600,000.00</td>\n",
       "      <td>$141,200,000.00</td>\n",
       "      <td>$9,000.00</td>\n",
       "      <td>130 mins</td>\n",
       "    </tr>\n",
       "    <tr>\n",
       "      <th>4</th>\n",
       "      <td>$43,100,000.00</td>\n",
       "      <td>$111,600,000.00</td>\n",
       "      <td>$9,500.00</td>\n",
       "      <td>117 mins</td>\n",
       "    </tr>\n",
       "  </tbody>\n",
       "</table>\n",
       "</div>"
      ],
      "text/plain": [
       "         income_usa       income_world movie_budget film_length\n",
       "0   $16,067,035.00     $59,567,035.00    $1,000.00     110 mins\n",
       "1   $24,800,000.00     $78,900,000.00    $2,000.00     115 mins\n",
       "2   $51,100,000.00    $124,900,000.00    $3,000.00     110 mins\n",
       "3   $63,600,000.00    $141,200,000.00    $9,000.00     130 mins\n",
       "4   $43,100,000.00    $111,600,000.00    $9,500.00     117 mins"
      ]
     },
     "execution_count": 20,
     "metadata": {},
     "output_type": "execute_result"
    }
   ],
   "source": [
    "data[\n",
    "    [\"income_usa\", \"income_world\", \"movie_budget\", \"film_length\"]\n",
    "    ].head()"
   ]
  },
  {
   "cell_type": "code",
   "execution_count": 49,
   "metadata": {},
   "outputs": [],
   "source": [
    "# Add the missing values and convert the data of income_usa to Float64.\n",
    "data = (\n",
    "    df.rename(columns=new_column_names)\n",
    "    .combine_first(\n",
    "        pd.DataFrame({\"imdb\": {10: 7.1}, \"rotten_tomatoes\": {10: 6.8}}))\n",
    "    .assign(income_usa=lambda data: (data[\"income_usa\"]\n",
    "                                     .replace(\"[$,]\", \"\", regex=True)\n",
    "                                     .astype(\"Float64\")\n",
    "                                        ),\n",
    "            income_world=lambda data: (data[\"income_world\"]\n",
    "                                        .replace(\"[$,]\", \"\", regex=True)\n",
    "                                        .astype(\"Float64\")\n",
    "                                         ),\n",
    "            movie_budget=lambda data: (data[\"movie_budget\"]\n",
    "                                        .replace(\"[$,]\", \"\", regex=True)\n",
    "                                        .astype(\"Float64\")\n",
    "                                       ),\n",
    "            film_length=lambda data: (data[\"film_length\"]\n",
    "                                        .str.removesuffix(\"mins\")\n",
    "                                        .astype(\"Int64\")\n",
    "                                      ),\n",
    "            release_date=lambda data: (pd.to_datetime(data[\"release_date\"],\n",
    "                                                        format=\"%B, %Y\")\n",
    "                                      ),\n",
    "            release_year=lambda data: (data[\"release_date\"]\n",
    "                                       .dt.year\n",
    "                                       .astype(\"Int64\")),\n",
    "                )\n",
    "            )\n",
    "\n"
   ]
  },
  {
   "cell_type": "code",
   "execution_count": 50,
   "metadata": {},
   "outputs": [
    {
     "name": "stdout",
     "output_type": "stream",
     "text": [
      "<class 'pandas.core.frame.DataFrame'>\n",
      "Index: 27 entries, 0 to 26\n",
      "Data columns (total 13 columns):\n",
      " #   Column             Non-Null Count  Dtype         \n",
      "---  ------             --------------  -----         \n",
      " 0   bond_actor         27 non-null     string        \n",
      " 1   bond_kills         27 non-null     Int64         \n",
      " 2   car_manufacturer   27 non-null     string        \n",
      " 3   film_length        27 non-null     Int64         \n",
      " 4   imdb               27 non-null     Float64       \n",
      " 5   income_usa         27 non-null     Float64       \n",
      " 6   income_world       27 non-null     Float64       \n",
      " 7   martinis_consumed  27 non-null     Int64         \n",
      " 8   movie_budget       27 non-null     Float64       \n",
      " 9   movie_title        27 non-null     string        \n",
      " 10  release_date       27 non-null     datetime64[ns]\n",
      " 11  rotten_tomatoes    27 non-null     Float64       \n",
      " 12  release_year       27 non-null     Int64         \n",
      "dtypes: Float64(5), Int64(4), datetime64[ns](1), string(3)\n",
      "memory usage: 3.2 KB\n"
     ]
    }
   ],
   "source": [
    "data.info()"
   ]
  },
  {
   "cell_type": "code",
   "execution_count": 46,
   "metadata": {},
   "outputs": [
    {
     "data": {
      "text/html": [
       "<div>\n",
       "<style scoped>\n",
       "    .dataframe tbody tr th:only-of-type {\n",
       "        vertical-align: middle;\n",
       "    }\n",
       "\n",
       "    .dataframe tbody tr th {\n",
       "        vertical-align: top;\n",
       "    }\n",
       "\n",
       "    .dataframe thead th {\n",
       "        text-align: right;\n",
       "    }\n",
       "</style>\n",
       "<table border=\"1\" class=\"dataframe\">\n",
       "  <thead>\n",
       "    <tr style=\"text-align: right;\">\n",
       "      <th></th>\n",
       "      <th>bond_actor</th>\n",
       "      <th>bond_kills</th>\n",
       "      <th>car_manufacturer</th>\n",
       "      <th>film_length</th>\n",
       "      <th>imdb</th>\n",
       "      <th>income_usa</th>\n",
       "      <th>income_world</th>\n",
       "      <th>martinis_consumed</th>\n",
       "      <th>movie_budget</th>\n",
       "      <th>movie_title</th>\n",
       "      <th>release_date</th>\n",
       "      <th>rotten_tomatoes</th>\n",
       "    </tr>\n",
       "  </thead>\n",
       "  <tbody>\n",
       "    <tr>\n",
       "      <th>0</th>\n",
       "      <td>Sean Connery</td>\n",
       "      <td>4</td>\n",
       "      <td>Sunbeam</td>\n",
       "      <td>110</td>\n",
       "      <td>7.3</td>\n",
       "      <td>16067035.0</td>\n",
       "      <td>59567035.0</td>\n",
       "      <td>2</td>\n",
       "      <td>1000.0</td>\n",
       "      <td>Dr. No</td>\n",
       "      <td>June, 1962</td>\n",
       "      <td>7.7</td>\n",
       "    </tr>\n",
       "    <tr>\n",
       "      <th>1</th>\n",
       "      <td>Sean Connery</td>\n",
       "      <td>11</td>\n",
       "      <td>Bentley</td>\n",
       "      <td>115</td>\n",
       "      <td>7.5</td>\n",
       "      <td>24800000.0</td>\n",
       "      <td>78900000.0</td>\n",
       "      <td>0</td>\n",
       "      <td>2000.0</td>\n",
       "      <td>From Russia with Love</td>\n",
       "      <td>August, 1963</td>\n",
       "      <td>8.0</td>\n",
       "    </tr>\n",
       "    <tr>\n",
       "      <th>2</th>\n",
       "      <td>Sean Connery</td>\n",
       "      <td>9</td>\n",
       "      <td>Aston Martin</td>\n",
       "      <td>110</td>\n",
       "      <td>7.8</td>\n",
       "      <td>51100000.0</td>\n",
       "      <td>124900000.0</td>\n",
       "      <td>1</td>\n",
       "      <td>3000.0</td>\n",
       "      <td>Goldfinger</td>\n",
       "      <td>May, 1964</td>\n",
       "      <td>8.4</td>\n",
       "    </tr>\n",
       "    <tr>\n",
       "      <th>3</th>\n",
       "      <td>Sean Connery</td>\n",
       "      <td>20</td>\n",
       "      <td>Aston Martin</td>\n",
       "      <td>130</td>\n",
       "      <td>7.0</td>\n",
       "      <td>63600000.0</td>\n",
       "      <td>141200000.0</td>\n",
       "      <td>0</td>\n",
       "      <td>9000.0</td>\n",
       "      <td>Thunderball</td>\n",
       "      <td>September, 1965</td>\n",
       "      <td>6.8</td>\n",
       "    </tr>\n",
       "    <tr>\n",
       "      <th>4</th>\n",
       "      <td>Sean Connery</td>\n",
       "      <td>21</td>\n",
       "      <td>Toyota</td>\n",
       "      <td>117</td>\n",
       "      <td>6.9</td>\n",
       "      <td>43100000.0</td>\n",
       "      <td>111600000.0</td>\n",
       "      <td>1</td>\n",
       "      <td>9500.0</td>\n",
       "      <td>You Only Live Twice</td>\n",
       "      <td>November, 1967</td>\n",
       "      <td>6.3</td>\n",
       "    </tr>\n",
       "  </tbody>\n",
       "</table>\n",
       "</div>"
      ],
      "text/plain": [
       "     bond_actor  bond_kills car_manufacturer  film_length  imdb  income_usa   \n",
       "0  Sean Connery           4          Sunbeam          110   7.3  16067035.0  \\\n",
       "1  Sean Connery          11          Bentley          115   7.5  24800000.0   \n",
       "2  Sean Connery           9     Aston Martin          110   7.8  51100000.0   \n",
       "3  Sean Connery          20     Aston Martin          130   7.0  63600000.0   \n",
       "4  Sean Connery          21           Toyota          117   6.9  43100000.0   \n",
       "\n",
       "   income_world  martinis_consumed  movie_budget            movie_title   \n",
       "0    59567035.0                  2        1000.0                 Dr. No  \\\n",
       "1    78900000.0                  0        2000.0  From Russia with Love   \n",
       "2   124900000.0                  1        3000.0             Goldfinger   \n",
       "3   141200000.0                  0        9000.0            Thunderball   \n",
       "4   111600000.0                  1        9500.0    You Only Live Twice   \n",
       "\n",
       "      release_date  rotten_tomatoes  \n",
       "0       June, 1962              7.7  \n",
       "1     August, 1963              8.0  \n",
       "2        May, 1964              8.4  \n",
       "3  September, 1965              6.8  \n",
       "4   November, 1967              6.3  "
      ]
     },
     "execution_count": 46,
     "metadata": {},
     "output_type": "execute_result"
    }
   ],
   "source": [
    "data.head()"
   ]
  }
 ],
 "metadata": {
  "kernelspec": {
   "display_name": "cx-analytics",
   "language": "python",
   "name": "python3"
  },
  "language_info": {
   "codemirror_mode": {
    "name": "ipython",
    "version": 3
   },
   "file_extension": ".py",
   "mimetype": "text/x-python",
   "name": "python",
   "nbconvert_exporter": "python",
   "pygments_lexer": "ipython3",
   "version": "3.9.16"
  }
 },
 "nbformat": 4,
 "nbformat_minor": 2
}
